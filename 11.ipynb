{
 "cells": [
  {
   "cell_type": "code",
   "execution_count": 1,
   "id": "d6bb4df5-25fc-4e9f-86cb-37392cd66e6b",
   "metadata": {},
   "outputs": [
    {
     "data": {
      "text/plain": [
       "31"
      ]
     },
     "execution_count": 1,
     "metadata": {},
     "output_type": "execute_result"
    }
   ],
   "source": [
    "import gc\n",
    "gc.collect()\n"
   ]
  },
  {
   "cell_type": "code",
   "execution_count": 2,
   "id": "42bcd533-8756-4205-b096-6cfc753f6490",
   "metadata": {},
   "outputs": [
    {
     "data": {
      "text/plain": [
       "0"
      ]
     },
     "execution_count": 2,
     "metadata": {},
     "output_type": "execute_result"
    }
   ],
   "source": [
    "import gc\n",
    "import torch\n",
    "torch.cuda.empty_cache()  # 如果使用GPU时，这一行能帮助释放内存\n",
    "gc.collect()  # 清理 Python 垃圾回收器\n"
   ]
  },
  {
   "cell_type": "code",
   "execution_count": 3,
   "id": "10d74918-7d1e-46a9-8738-716db5002f7f",
   "metadata": {},
   "outputs": [],
   "source": [
    "torch.cuda.empty_cache()  # 清空显存\n"
   ]
  },
  {
   "cell_type": "code",
   "execution_count": 4,
   "id": "2f31b0d3-699e-41db-b437-aa94ee2d726d",
   "metadata": {},
   "outputs": [],
   "source": [
    "import datetime\n",
    "from util.util import importstr\n",
    "from util.logconf import logging\n",
    "log = logging.getLogger('nb')"
   ]
  },
  {
   "cell_type": "code",
   "execution_count": 5,
   "id": "637e2dfb-9cd3-4631-aee0-43e9e7310018",
   "metadata": {},
   "outputs": [],
   "source": [
    "def run(app, *argv):\n",
    "    argv = list(argv)\n",
    "    argv.insert(0,'--num-workers=8')\n",
    "    log.info(\"Running : {}({!r}).main()\".format(app,argv))\n",
    "\n",
    "    app_cls = importstr(*app.rsplit('.',1))\n",
    "    app_cls(argv).main()\n",
    "\n",
    "    log.info(\"Finished: {}.{!r}.main()\".format(app,argv))\n",
    "\n",
    "\n",
    "    "
   ]
  },
  {
   "cell_type": "code",
   "execution_count": 6,
   "id": "b7f16dfd-fb7e-4107-9ae7-af352960d368",
   "metadata": {},
   "outputs": [],
   "source": [
    "import os\n",
    "import shutil\n",
    "\n",
    "def cleanCache():\n",
    "    shutil.rmtree('data-unversioned/cache')\n",
    "    os.mkdir('data-unversioned/cache')\n",
    "\n"
   ]
  },
  {
   "cell_type": "code",
   "execution_count": 4,
   "id": "75a24a13-15d5-455e-9369-15cc04404d1e",
   "metadata": {},
   "outputs": [
    {
     "name": "stderr",
     "output_type": "stream",
     "text": [
      "2025-01-09 07:40:29,631 - nb - INFO - Running : code1.precache.LunaPreCacheApp(['--num-workers=8']).main()\n",
      "2025-01-09 07:40:29,646 - code1.precache - INFO - Initialized model: LunaModel(\n",
      "  (tail_batchnorm): BatchNorm3d(1, eps=1e-05, momentum=0.1, affine=True, track_running_stats=True)\n",
      "  (block1): LunaBlock(\n",
      "    (conv1): Conv3d(1, 8, kernel_size=(3, 3, 3), stride=(1, 1, 1), padding=(1, 1, 1))\n",
      "    (relu1): ReLU(inplace=True)\n",
      "    (conv2): Conv3d(8, 8, kernel_size=(3, 3, 3), stride=(1, 1, 1), padding=(1, 1, 1))\n",
      "    (relu2): ReLU(inplace=True)\n",
      "    (maxpool): MaxPool3d(kernel_size=2, stride=2, padding=0, dilation=1, ceil_mode=False)\n",
      "  )\n",
      "  (block2): LunaBlock(\n",
      "    (conv1): Conv3d(8, 16, kernel_size=(3, 3, 3), stride=(1, 1, 1), padding=(1, 1, 1))\n",
      "    (relu1): ReLU(inplace=True)\n",
      "    (conv2): Conv3d(16, 16, kernel_size=(3, 3, 3), stride=(1, 1, 1), padding=(1, 1, 1))\n",
      "    (relu2): ReLU(inplace=True)\n",
      "    (maxpool): MaxPool3d(kernel_size=2, stride=2, padding=0, dilation=1, ceil_mode=False)\n",
      "  )\n",
      "  (block3): LunaBlock(\n",
      "    (conv1): Conv3d(2, 32, kernel_size=(3, 3, 3), stride=(1, 1, 1), padding=(1, 1, 1))\n",
      "    (relu1): ReLU(inplace=True)\n",
      "    (conv2): Conv3d(32, 32, kernel_size=(3, 3, 3), stride=(1, 1, 1), padding=(1, 1, 1))\n",
      "    (relu2): ReLU(inplace=True)\n",
      "    (maxpool): MaxPool3d(kernel_size=2, stride=2, padding=0, dilation=1, ceil_mode=False)\n",
      "  )\n",
      "  (block4): LunaBlock(\n",
      "    (conv1): Conv3d(4, 64, kernel_size=(3, 3, 3), stride=(1, 1, 1), padding=(1, 1, 1))\n",
      "    (relu1): ReLU(inplace=True)\n",
      "    (conv2): Conv3d(64, 64, kernel_size=(3, 3, 3), stride=(1, 1, 1), padding=(1, 1, 1))\n",
      "    (relu2): ReLU(inplace=True)\n",
      "    (maxpool): MaxPool3d(kernel_size=2, stride=2, padding=0, dilation=1, ceil_mode=False)\n",
      "  )\n",
      "  (head_linear): Linear(in_features=1152, out_features=2, bias=True)\n",
      "  (head_softmax): Softmax(dim=1)\n",
      ")\n"
     ]
    },
    {
     "name": "stdout",
     "output_type": "stream",
     "text": [
      "<class 'code1.precache.LunaPreCacheApp'>\n"
     ]
    },
    {
     "ename": "AttributeError",
     "evalue": "'LunaPreCacheApp' object has no attribute 'device'",
     "output_type": "error",
     "traceback": [
      "\u001b[0;31m---------------------------------------------------------------------------\u001b[0m",
      "\u001b[0;31mAttributeError\u001b[0m                            Traceback (most recent call last)",
      "Cell \u001b[0;32mIn[4], line 3\u001b[0m\n\u001b[1;32m      1\u001b[0m \u001b[38;5;28;01mfrom\u001b[39;00m \u001b[38;5;21;01mcode1\u001b[39;00m\u001b[38;5;21;01m.\u001b[39;00m\u001b[38;5;21;01mprecache\u001b[39;00m \u001b[38;5;28;01mimport\u001b[39;00m LunaPreCacheApp  \u001b[38;5;66;03m# Correct import\u001b[39;00m\n\u001b[1;32m      2\u001b[0m \u001b[38;5;28mprint\u001b[39m(LunaPreCacheApp)  \u001b[38;5;66;03m# Correct class name\u001b[39;00m\n\u001b[0;32m----> 3\u001b[0m run(\u001b[38;5;124m'\u001b[39m\u001b[38;5;124mcode1.precache.LunaPreCacheApp\u001b[39m\u001b[38;5;124m'\u001b[39m)\n",
      "Cell \u001b[0;32mIn[2], line 7\u001b[0m, in \u001b[0;36mrun\u001b[0;34m(app, *argv)\u001b[0m\n\u001b[1;32m      4\u001b[0m log\u001b[38;5;241m.\u001b[39minfo(\u001b[38;5;124m\"\u001b[39m\u001b[38;5;124mRunning : \u001b[39m\u001b[38;5;132;01m{}\u001b[39;00m\u001b[38;5;124m(\u001b[39m\u001b[38;5;132;01m{!r}\u001b[39;00m\u001b[38;5;124m).main()\u001b[39m\u001b[38;5;124m\"\u001b[39m\u001b[38;5;241m.\u001b[39mformat(app,argv))\n\u001b[1;32m      6\u001b[0m app_cls \u001b[38;5;241m=\u001b[39m importstr(\u001b[38;5;241m*\u001b[39mapp\u001b[38;5;241m.\u001b[39mrsplit(\u001b[38;5;124m'\u001b[39m\u001b[38;5;124m.\u001b[39m\u001b[38;5;124m'\u001b[39m,\u001b[38;5;241m1\u001b[39m))\n\u001b[0;32m----> 7\u001b[0m app_cls(argv)\u001b[38;5;241m.\u001b[39mmain()\n\u001b[1;32m      9\u001b[0m log\u001b[38;5;241m.\u001b[39minfo(\u001b[38;5;124m\"\u001b[39m\u001b[38;5;124mFinished: \u001b[39m\u001b[38;5;132;01m{}\u001b[39;00m\u001b[38;5;124m.\u001b[39m\u001b[38;5;132;01m{!r}\u001b[39;00m\u001b[38;5;124m.main()\u001b[39m\u001b[38;5;124m\"\u001b[39m\u001b[38;5;241m.\u001b[39mformat(app,argv))\n",
      "File \u001b[0;32m~/Desktop/ai-um/um/7015_advanced_machine_learning/project/code1/precache.py:300\u001b[0m, in \u001b[0;36mLunaPreCacheApp.__init__\u001b[0;34m(self, sys_argv)\u001b[0m\n\u001b[1;32m    297\u001b[0m \u001b[38;5;28mself\u001b[39m\u001b[38;5;241m.\u001b[39mcli_args \u001b[38;5;241m=\u001b[39m parser\u001b[38;5;241m.\u001b[39mparse_args(sys_argv)\n\u001b[1;32m    299\u001b[0m \u001b[38;5;66;03m# Initialize model here, make sure initModel works\u001b[39;00m\n\u001b[0;32m--> 300\u001b[0m \u001b[38;5;28mself\u001b[39m\u001b[38;5;241m.\u001b[39mmodel \u001b[38;5;241m=\u001b[39m \u001b[38;5;28mself\u001b[39m\u001b[38;5;241m.\u001b[39minitModel()\n\u001b[1;32m    301\u001b[0m \u001b[38;5;28mself\u001b[39m\u001b[38;5;241m.\u001b[39mdevice \u001b[38;5;241m=\u001b[39m torch\u001b[38;5;241m.\u001b[39mdevice(\u001b[38;5;124m'\u001b[39m\u001b[38;5;124mmps\u001b[39m\u001b[38;5;124m'\u001b[39m \u001b[38;5;28;01mif\u001b[39;00m torch\u001b[38;5;241m.\u001b[39mhas_mps \u001b[38;5;28;01melse\u001b[39;00m \u001b[38;5;124m'\u001b[39m\u001b[38;5;124mcpu\u001b[39m\u001b[38;5;124m'\u001b[39m)\n",
      "File \u001b[0;32m~/Desktop/ai-um/um/7015_advanced_machine_learning/project/code1/precache.py:307\u001b[0m, in \u001b[0;36mLunaPreCacheApp.initModel\u001b[0;34m(self)\u001b[0m\n\u001b[1;32m    305\u001b[0m model \u001b[38;5;241m=\u001b[39m LunaModel()  \u001b[38;5;66;03m# Assuming LunaModel exists in code1.model\u001b[39;00m\n\u001b[1;32m    306\u001b[0m log\u001b[38;5;241m.\u001b[39minfo(\u001b[38;5;124mf\u001b[39m\u001b[38;5;124m\"\u001b[39m\u001b[38;5;124mInitialized model: \u001b[39m\u001b[38;5;132;01m{\u001b[39;00mmodel\u001b[38;5;132;01m}\u001b[39;00m\u001b[38;5;124m\"\u001b[39m)\n\u001b[0;32m--> 307\u001b[0m model\u001b[38;5;241m.\u001b[39mto(\u001b[38;5;28mself\u001b[39m\u001b[38;5;241m.\u001b[39mdevice)  \u001b[38;5;66;03m# Move the model to the appropriate device (MPS or CPU)\u001b[39;00m\n\u001b[1;32m    308\u001b[0m \u001b[38;5;28;01mreturn\u001b[39;00m model\n",
      "\u001b[0;31mAttributeError\u001b[0m: 'LunaPreCacheApp' object has no attribute 'device'"
     ]
    }
   ],
   "source": [
    "from code1.precache import LunaPreCacheApp  # Correct import\n",
    "print(LunaPreCacheApp)  # Correct class name\n",
    "run('code1.precache.LunaPreCacheApp')"
   ]
  },
  {
   "cell_type": "code",
   "execution_count": null,
   "id": "c9489765-3f62-4946-99e9-5612f7323e1b",
   "metadata": {},
   "outputs": [
    {
     "name": "stderr",
     "output_type": "stream",
     "text": [
      "2025-01-09 07:54:07,658 - nb - INFO - Running : code1.training.LunaTrainingApp(['--num-workers=8', '--epochs=1']).main()\n",
      "/Users/wanningsong/Desktop/ai-um/um/7015_advanced_machine_learning/project/code1/training.py:628: UserWarning: 'has_mps' is deprecated, please use 'torch.backends.mps.is_built()'\n",
      "  self.device = torch.device(\"mps\" if torch.has_mps else \"cpu\")  # Use MPS on Apple devices if available, else CPU\n",
      "2025-01-09 07:54:07,661 - code1.training - INFO - Using device: mps\n",
      "2025-01-09 07:54:08,264 - code1.training - INFO - starting LunaTrainingApp,Namespace(num_workers=8, batch_size=32, epochs=1, tb_prefix='p2ch11', comment='dwlpt')\n",
      "2025-01-09 07:54:10,158 - code1.dsets - INFO - <code1.dsets.LunaDataset object at 0x31048cce0>:55107training samples\n",
      "2025-01-09 07:54:10,174 - code1.dsets - INFO - <code1.dsets.LunaDataset object at 0x30e61e120>:55107validation samples\n",
      "2025-01-09 07:54:10,174 - code1.training - INFO - Epoch 1 of 1, 1723/1723 batches of size 32 * 1\n"
     ]
    }
   ],
   "source": [
    "run('code1.training.LunaTrainingApp','--epochs=1')"
   ]
  },
  {
   "cell_type": "code",
   "execution_count": 7,
   "id": "8ea1cbd1-4a7e-414d-a4c7-337d9b9a1943",
   "metadata": {},
   "outputs": [
    {
     "name": "stderr",
     "output_type": "stream",
     "text": [
      "2025-01-09 16:32:48,099 - tensorflow - DEBUG - Falling back to TensorFlow client; we recommended you install the Cloud TPU client directly with pip install cloud-tpu-client.\n",
      "2025-01-09 16:32:48,259 - h5py._conv - DEBUG - Creating converter from 7 to 5\n",
      "2025-01-09 16:32:48,260 - h5py._conv - DEBUG - Creating converter from 5 to 7\n",
      "2025-01-09 16:32:48,260 - h5py._conv - DEBUG - Creating converter from 7 to 5\n",
      "2025-01-09 16:32:48,260 - h5py._conv - DEBUG - Creating converter from 5 to 7\n",
      "2025-01-09 16:32:48,747 - numexpr.utils - INFO - NumExpr defaulting to 8 threads.\n"
     ]
    }
   ],
   "source": [
    "from code1.training import LunaTrainingApp\n"
   ]
  },
  {
   "cell_type": "code",
   "execution_count": 8,
   "id": "e2489936-1227-4d3e-86a3-13828e123fb8",
   "metadata": {},
   "outputs": [
    {
     "name": "stderr",
     "output_type": "stream",
     "text": [
      "2025-01-09 16:32:49,527 - nb - INFO - Running : code1.training.LunaTrainingApp(['--num-workers=8', '--epochs=1', '--batch-size=1', '--num-workers=1']).main()\n",
      "/Users/wanningsong/Desktop/ai-um/um/7015_advanced_machine_learning/project/code1/training.py:628: UserWarning: 'has_mps' is deprecated, please use 'torch.backends.mps.is_built()'\n",
      "  self.device = torch.device(\"mps\" if torch.has_mps else \"cpu\")  # Use MPS on Apple devices if available, else CPU\n",
      "2025-01-09 16:32:49,532 - code1.training - INFO - Using device: mps\n",
      "2025-01-09 16:32:50,068 - code1.training - INFO - starting LunaTrainingApp,Namespace(num_workers=1, batch_size=1, epochs=1, tb_prefix='p2ch11', comment='dwlpt')\n",
      "2025-01-09 16:32:51,931 - code1.dsets - INFO - <code1.dsets.LunaDataset object at 0x3070d1640>:55107training samples\n",
      "2025-01-09 16:32:51,947 - code1.dsets - INFO - <code1.dsets.LunaDataset object at 0x310a0be60>:55107validation samples\n",
      "2025-01-09 16:32:51,948 - code1.training - INFO - Epoch 1 of 1, 55107/55107 batches of size 1 * 1\n"
     ]
    },
    {
     "name": "stdout",
     "output_type": "stream",
     "text": [
      "After conv2, block_out shape: torch.Size([1, 16, 32, 48, 48])\n",
      "After maxpool, block_out_2d shape: torch.Size([32, 16, 24, 24])\n"
     ]
    },
    {
     "ename": "RuntimeError",
     "evalue": "shape '[1, 32, 32, 24, 24]' is invalid for input of size 294912",
     "output_type": "error",
     "traceback": [
      "\u001b[0;31m---------------------------------------------------------------------------\u001b[0m",
      "\u001b[0;31mRuntimeError\u001b[0m                              Traceback (most recent call last)",
      "Cell \u001b[0;32mIn[8], line 1\u001b[0m\n\u001b[0;32m----> 1\u001b[0m run(\u001b[38;5;124m'\u001b[39m\u001b[38;5;124mcode1.training.LunaTrainingApp\u001b[39m\u001b[38;5;124m'\u001b[39m, \u001b[38;5;124m'\u001b[39m\u001b[38;5;124m--epochs=1\u001b[39m\u001b[38;5;124m'\u001b[39m, \u001b[38;5;124m'\u001b[39m\u001b[38;5;124m--batch-size=1\u001b[39m\u001b[38;5;124m'\u001b[39m, \u001b[38;5;124m'\u001b[39m\u001b[38;5;124m--num-workers=1\u001b[39m\u001b[38;5;124m'\u001b[39m)\n",
      "Cell \u001b[0;32mIn[5], line 7\u001b[0m, in \u001b[0;36mrun\u001b[0;34m(app, *argv)\u001b[0m\n\u001b[1;32m      4\u001b[0m log\u001b[38;5;241m.\u001b[39minfo(\u001b[38;5;124m\"\u001b[39m\u001b[38;5;124mRunning : \u001b[39m\u001b[38;5;132;01m{}\u001b[39;00m\u001b[38;5;124m(\u001b[39m\u001b[38;5;132;01m{!r}\u001b[39;00m\u001b[38;5;124m).main()\u001b[39m\u001b[38;5;124m\"\u001b[39m\u001b[38;5;241m.\u001b[39mformat(app,argv))\n\u001b[1;32m      6\u001b[0m app_cls \u001b[38;5;241m=\u001b[39m importstr(\u001b[38;5;241m*\u001b[39mapp\u001b[38;5;241m.\u001b[39mrsplit(\u001b[38;5;124m'\u001b[39m\u001b[38;5;124m.\u001b[39m\u001b[38;5;124m'\u001b[39m,\u001b[38;5;241m1\u001b[39m))\n\u001b[0;32m----> 7\u001b[0m app_cls(argv)\u001b[38;5;241m.\u001b[39mmain()\n\u001b[1;32m      9\u001b[0m log\u001b[38;5;241m.\u001b[39minfo(\u001b[38;5;124m\"\u001b[39m\u001b[38;5;124mFinished: \u001b[39m\u001b[38;5;132;01m{}\u001b[39;00m\u001b[38;5;124m.\u001b[39m\u001b[38;5;132;01m{!r}\u001b[39;00m\u001b[38;5;124m.main()\u001b[39m\u001b[38;5;124m\"\u001b[39m\u001b[38;5;241m.\u001b[39mformat(app,argv))\n",
      "File \u001b[0;32m~/Desktop/ai-um/um/7015_advanced_machine_learning/project/code1/training.py:710\u001b[0m, in \u001b[0;36mLunaTrainingApp.main\u001b[0;34m(self)\u001b[0m\n\u001b[1;32m    700\u001b[0m \u001b[38;5;28;01mfor\u001b[39;00m epoch_ndx \u001b[38;5;129;01min\u001b[39;00m \u001b[38;5;28mrange\u001b[39m(\u001b[38;5;241m1\u001b[39m, \u001b[38;5;28mself\u001b[39m\u001b[38;5;241m.\u001b[39mcli_args\u001b[38;5;241m.\u001b[39mepochs \u001b[38;5;241m+\u001b[39m \u001b[38;5;241m1\u001b[39m):\n\u001b[1;32m    701\u001b[0m     log\u001b[38;5;241m.\u001b[39minfo(\u001b[38;5;124m\"\u001b[39m\u001b[38;5;124mEpoch \u001b[39m\u001b[38;5;132;01m{}\u001b[39;00m\u001b[38;5;124m of \u001b[39m\u001b[38;5;132;01m{}\u001b[39;00m\u001b[38;5;124m, \u001b[39m\u001b[38;5;132;01m{}\u001b[39;00m\u001b[38;5;124m/\u001b[39m\u001b[38;5;132;01m{}\u001b[39;00m\u001b[38;5;124m batches of size \u001b[39m\u001b[38;5;132;01m{}\u001b[39;00m\u001b[38;5;124m * \u001b[39m\u001b[38;5;132;01m{}\u001b[39;00m\u001b[38;5;124m\"\u001b[39m\u001b[38;5;241m.\u001b[39mformat(\n\u001b[1;32m    702\u001b[0m         epoch_ndx,\n\u001b[1;32m    703\u001b[0m         \u001b[38;5;28mself\u001b[39m\u001b[38;5;241m.\u001b[39mcli_args\u001b[38;5;241m.\u001b[39mepochs,\n\u001b[0;32m   (...)\u001b[0m\n\u001b[1;32m    707\u001b[0m         \u001b[38;5;241m1\u001b[39m,  \u001b[38;5;66;03m# Only 1 device (CPU or MPS) on Apple machines\u001b[39;00m\n\u001b[1;32m    708\u001b[0m     ))\n\u001b[0;32m--> 710\u001b[0m     trnMetrics_t, pos_correct, neg_correct, total \u001b[38;5;241m=\u001b[39m \u001b[38;5;28mself\u001b[39m\u001b[38;5;241m.\u001b[39mdoTraining(epoch_ndx, val_dl)\n\u001b[1;32m    711\u001b[0m     \u001b[38;5;28mself\u001b[39m\u001b[38;5;241m.\u001b[39mlogMetrics(epoch_ndx, \u001b[38;5;124m'\u001b[39m\u001b[38;5;124mtrn\u001b[39m\u001b[38;5;124m'\u001b[39m, trnMetrics_t, pos_correct, neg_correct, total)\n\u001b[1;32m    713\u001b[0m     valMetrics_t, pos_correct, neg_correct, total \u001b[38;5;241m=\u001b[39m \u001b[38;5;28mself\u001b[39m\u001b[38;5;241m.\u001b[39mdoValidation(epoch_ndx, val_dl)\n",
      "File \u001b[0;32m~/Desktop/ai-um/um/7015_advanced_machine_learning/project/code1/training.py:742\u001b[0m, in \u001b[0;36mLunaTrainingApp.doTraining\u001b[0;34m(self, epoch_ndx, train_dl)\u001b[0m\n\u001b[1;32m    739\u001b[0m \u001b[38;5;28;01mfor\u001b[39;00m batch_ndx, batch_tup \u001b[38;5;129;01min\u001b[39;00m batch_iter:\n\u001b[1;32m    740\u001b[0m     \u001b[38;5;28mself\u001b[39m\u001b[38;5;241m.\u001b[39moptimizer\u001b[38;5;241m.\u001b[39mzero_grad()\n\u001b[0;32m--> 742\u001b[0m     loss_var \u001b[38;5;241m=\u001b[39m \u001b[38;5;28mself\u001b[39m\u001b[38;5;241m.\u001b[39mcomputeBatchLoss(\n\u001b[1;32m    743\u001b[0m         batch_ndx,\n\u001b[1;32m    744\u001b[0m         batch_tup,\n\u001b[1;32m    745\u001b[0m         train_dl\u001b[38;5;241m.\u001b[39mbatch_size,\n\u001b[1;32m    746\u001b[0m         trnMetrics_g\n\u001b[1;32m    747\u001b[0m     )\n\u001b[1;32m    749\u001b[0m     loss_var\u001b[38;5;241m.\u001b[39mbackward()\n\u001b[1;32m    750\u001b[0m     \u001b[38;5;28mself\u001b[39m\u001b[38;5;241m.\u001b[39moptimizer\u001b[38;5;241m.\u001b[39mstep()\n",
      "File \u001b[0;32m~/Desktop/ai-um/um/7015_advanced_machine_learning/project/code1/training.py:818\u001b[0m, in \u001b[0;36mLunaTrainingApp.computeBatchLoss\u001b[0;34m(self, batch_ndx, batch_tup, batch_size, metrics_g)\u001b[0m\n\u001b[1;32m    814\u001b[0m input_g \u001b[38;5;241m=\u001b[39m input_t\u001b[38;5;241m.\u001b[39mto(\u001b[38;5;28mself\u001b[39m\u001b[38;5;241m.\u001b[39mdevice, non_blocking\u001b[38;5;241m=\u001b[39m\u001b[38;5;28;01mFalse\u001b[39;00m)\n\u001b[1;32m    815\u001b[0m label_g \u001b[38;5;241m=\u001b[39m label_t\u001b[38;5;241m.\u001b[39mto(\u001b[38;5;28mself\u001b[39m\u001b[38;5;241m.\u001b[39mdevice, non_blocking\u001b[38;5;241m=\u001b[39m\u001b[38;5;28;01mFalse\u001b[39;00m)\n\u001b[0;32m--> 818\u001b[0m logits_g, probability_g \u001b[38;5;241m=\u001b[39m \u001b[38;5;28mself\u001b[39m\u001b[38;5;241m.\u001b[39mmodel(input_g)\n\u001b[1;32m    820\u001b[0m loss_func \u001b[38;5;241m=\u001b[39m nn\u001b[38;5;241m.\u001b[39mCrossEntropyLoss(reduction\u001b[38;5;241m=\u001b[39m\u001b[38;5;124m'\u001b[39m\u001b[38;5;124mnone\u001b[39m\u001b[38;5;124m'\u001b[39m)\n\u001b[1;32m    822\u001b[0m loss_g \u001b[38;5;241m=\u001b[39m loss_func(logits_g, label_g[:, \u001b[38;5;241m1\u001b[39m])\n",
      "File \u001b[0;32m/opt/anaconda3/envs/imooc_ai/lib/python3.12/site-packages/torch/nn/modules/module.py:1736\u001b[0m, in \u001b[0;36mModule._wrapped_call_impl\u001b[0;34m(self, *args, **kwargs)\u001b[0m\n\u001b[1;32m   1734\u001b[0m     \u001b[38;5;28;01mreturn\u001b[39;00m \u001b[38;5;28mself\u001b[39m\u001b[38;5;241m.\u001b[39m_compiled_call_impl(\u001b[38;5;241m*\u001b[39margs, \u001b[38;5;241m*\u001b[39m\u001b[38;5;241m*\u001b[39mkwargs)  \u001b[38;5;66;03m# type: ignore[misc]\u001b[39;00m\n\u001b[1;32m   1735\u001b[0m \u001b[38;5;28;01melse\u001b[39;00m:\n\u001b[0;32m-> 1736\u001b[0m     \u001b[38;5;28;01mreturn\u001b[39;00m \u001b[38;5;28mself\u001b[39m\u001b[38;5;241m.\u001b[39m_call_impl(\u001b[38;5;241m*\u001b[39margs, \u001b[38;5;241m*\u001b[39m\u001b[38;5;241m*\u001b[39mkwargs)\n",
      "File \u001b[0;32m/opt/anaconda3/envs/imooc_ai/lib/python3.12/site-packages/torch/nn/modules/module.py:1747\u001b[0m, in \u001b[0;36mModule._call_impl\u001b[0;34m(self, *args, **kwargs)\u001b[0m\n\u001b[1;32m   1742\u001b[0m \u001b[38;5;66;03m# If we don't have any hooks, we want to skip the rest of the logic in\u001b[39;00m\n\u001b[1;32m   1743\u001b[0m \u001b[38;5;66;03m# this function, and just call forward.\u001b[39;00m\n\u001b[1;32m   1744\u001b[0m \u001b[38;5;28;01mif\u001b[39;00m \u001b[38;5;129;01mnot\u001b[39;00m (\u001b[38;5;28mself\u001b[39m\u001b[38;5;241m.\u001b[39m_backward_hooks \u001b[38;5;129;01mor\u001b[39;00m \u001b[38;5;28mself\u001b[39m\u001b[38;5;241m.\u001b[39m_backward_pre_hooks \u001b[38;5;129;01mor\u001b[39;00m \u001b[38;5;28mself\u001b[39m\u001b[38;5;241m.\u001b[39m_forward_hooks \u001b[38;5;129;01mor\u001b[39;00m \u001b[38;5;28mself\u001b[39m\u001b[38;5;241m.\u001b[39m_forward_pre_hooks\n\u001b[1;32m   1745\u001b[0m         \u001b[38;5;129;01mor\u001b[39;00m _global_backward_pre_hooks \u001b[38;5;129;01mor\u001b[39;00m _global_backward_hooks\n\u001b[1;32m   1746\u001b[0m         \u001b[38;5;129;01mor\u001b[39;00m _global_forward_hooks \u001b[38;5;129;01mor\u001b[39;00m _global_forward_pre_hooks):\n\u001b[0;32m-> 1747\u001b[0m     \u001b[38;5;28;01mreturn\u001b[39;00m forward_call(\u001b[38;5;241m*\u001b[39margs, \u001b[38;5;241m*\u001b[39m\u001b[38;5;241m*\u001b[39mkwargs)\n\u001b[1;32m   1749\u001b[0m result \u001b[38;5;241m=\u001b[39m \u001b[38;5;28;01mNone\u001b[39;00m\n\u001b[1;32m   1750\u001b[0m called_always_called_hooks \u001b[38;5;241m=\u001b[39m \u001b[38;5;28mset\u001b[39m()\n",
      "File \u001b[0;32m~/Desktop/ai-um/um/7015_advanced_machine_learning/project/code1/model.py:145\u001b[0m, in \u001b[0;36mLunaModel.forward\u001b[0;34m(self, input_batch)\u001b[0m\n\u001b[1;32m    142\u001b[0m \u001b[38;5;28;01mdef\u001b[39;00m \u001b[38;5;21mforward\u001b[39m(\u001b[38;5;28mself\u001b[39m, input_batch):\n\u001b[1;32m    143\u001b[0m     bn_output \u001b[38;5;241m=\u001b[39m \u001b[38;5;28mself\u001b[39m\u001b[38;5;241m.\u001b[39mtail_batchnorm(input_batch)\n\u001b[0;32m--> 145\u001b[0m     block_out \u001b[38;5;241m=\u001b[39m \u001b[38;5;28mself\u001b[39m\u001b[38;5;241m.\u001b[39mblock1(bn_output)\n\u001b[1;32m    146\u001b[0m     block_out \u001b[38;5;241m=\u001b[39m \u001b[38;5;28mself\u001b[39m\u001b[38;5;241m.\u001b[39mblock2(block_out)\n\u001b[1;32m    147\u001b[0m     block_out \u001b[38;5;241m=\u001b[39m \u001b[38;5;28mself\u001b[39m\u001b[38;5;241m.\u001b[39mblock3(block_out)\n",
      "File \u001b[0;32m/opt/anaconda3/envs/imooc_ai/lib/python3.12/site-packages/torch/nn/modules/module.py:1736\u001b[0m, in \u001b[0;36mModule._wrapped_call_impl\u001b[0;34m(self, *args, **kwargs)\u001b[0m\n\u001b[1;32m   1734\u001b[0m     \u001b[38;5;28;01mreturn\u001b[39;00m \u001b[38;5;28mself\u001b[39m\u001b[38;5;241m.\u001b[39m_compiled_call_impl(\u001b[38;5;241m*\u001b[39margs, \u001b[38;5;241m*\u001b[39m\u001b[38;5;241m*\u001b[39mkwargs)  \u001b[38;5;66;03m# type: ignore[misc]\u001b[39;00m\n\u001b[1;32m   1735\u001b[0m \u001b[38;5;28;01melse\u001b[39;00m:\n\u001b[0;32m-> 1736\u001b[0m     \u001b[38;5;28;01mreturn\u001b[39;00m \u001b[38;5;28mself\u001b[39m\u001b[38;5;241m.\u001b[39m_call_impl(\u001b[38;5;241m*\u001b[39margs, \u001b[38;5;241m*\u001b[39m\u001b[38;5;241m*\u001b[39mkwargs)\n",
      "File \u001b[0;32m/opt/anaconda3/envs/imooc_ai/lib/python3.12/site-packages/torch/nn/modules/module.py:1747\u001b[0m, in \u001b[0;36mModule._call_impl\u001b[0;34m(self, *args, **kwargs)\u001b[0m\n\u001b[1;32m   1742\u001b[0m \u001b[38;5;66;03m# If we don't have any hooks, we want to skip the rest of the logic in\u001b[39;00m\n\u001b[1;32m   1743\u001b[0m \u001b[38;5;66;03m# this function, and just call forward.\u001b[39;00m\n\u001b[1;32m   1744\u001b[0m \u001b[38;5;28;01mif\u001b[39;00m \u001b[38;5;129;01mnot\u001b[39;00m (\u001b[38;5;28mself\u001b[39m\u001b[38;5;241m.\u001b[39m_backward_hooks \u001b[38;5;129;01mor\u001b[39;00m \u001b[38;5;28mself\u001b[39m\u001b[38;5;241m.\u001b[39m_backward_pre_hooks \u001b[38;5;129;01mor\u001b[39;00m \u001b[38;5;28mself\u001b[39m\u001b[38;5;241m.\u001b[39m_forward_hooks \u001b[38;5;129;01mor\u001b[39;00m \u001b[38;5;28mself\u001b[39m\u001b[38;5;241m.\u001b[39m_forward_pre_hooks\n\u001b[1;32m   1745\u001b[0m         \u001b[38;5;129;01mor\u001b[39;00m _global_backward_pre_hooks \u001b[38;5;129;01mor\u001b[39;00m _global_backward_hooks\n\u001b[1;32m   1746\u001b[0m         \u001b[38;5;129;01mor\u001b[39;00m _global_forward_hooks \u001b[38;5;129;01mor\u001b[39;00m _global_forward_pre_hooks):\n\u001b[0;32m-> 1747\u001b[0m     \u001b[38;5;28;01mreturn\u001b[39;00m forward_call(\u001b[38;5;241m*\u001b[39margs, \u001b[38;5;241m*\u001b[39m\u001b[38;5;241m*\u001b[39mkwargs)\n\u001b[1;32m   1749\u001b[0m result \u001b[38;5;241m=\u001b[39m \u001b[38;5;28;01mNone\u001b[39;00m\n\u001b[1;32m   1750\u001b[0m called_always_called_hooks \u001b[38;5;241m=\u001b[39m \u001b[38;5;28mset\u001b[39m()\n",
      "File \u001b[0;32m~/Desktop/ai-um/um/7015_advanced_machine_learning/project/code1/model.py:224\u001b[0m, in \u001b[0;36mLunaBlock.forward\u001b[0;34m(self, input_batch)\u001b[0m\n\u001b[1;32m    221\u001b[0m new_width \u001b[38;5;241m=\u001b[39m width \u001b[38;5;241m/\u001b[39m\u001b[38;5;241m/\u001b[39m \u001b[38;5;241m2\u001b[39m  \u001b[38;5;66;03m# 池化操作减少了宽度\u001b[39;00m\n\u001b[1;32m    223\u001b[0m \u001b[38;5;66;03m# 恢复为 3D 张量\u001b[39;00m\n\u001b[0;32m--> 224\u001b[0m block_out \u001b[38;5;241m=\u001b[39m block_out_2d\u001b[38;5;241m.\u001b[39mview(new_batch_size, new_depth, new_channels, new_height, new_width)\n\u001b[1;32m    226\u001b[0m \u001b[38;5;66;03m# 打印最终的形状\u001b[39;00m\n\u001b[1;32m    227\u001b[0m \u001b[38;5;28mprint\u001b[39m(\u001b[38;5;124mf\u001b[39m\u001b[38;5;124m\"\u001b[39m\u001b[38;5;124mAfter reshape, block_out shape: \u001b[39m\u001b[38;5;132;01m{\u001b[39;00mblock_out\u001b[38;5;241m.\u001b[39mshape\u001b[38;5;132;01m}\u001b[39;00m\u001b[38;5;124m\"\u001b[39m)\n",
      "\u001b[0;31mRuntimeError\u001b[0m: shape '[1, 32, 32, 24, 24]' is invalid for input of size 294912"
     ]
    }
   ],
   "source": [
    "run('code1.training.LunaTrainingApp', '--epochs=1', '--batch-size=1', '--num-workers=1')\n"
   ]
  },
  {
   "cell_type": "code",
   "execution_count": null,
   "id": "1171862e-31a3-45bf-be20-c30deaf09c65",
   "metadata": {},
   "outputs": [],
   "source": []
  }
 ],
 "metadata": {
  "kernelspec": {
   "display_name": "Python 3 (ipykernel)",
   "language": "python",
   "name": "python3"
  },
  "language_info": {
   "codemirror_mode": {
    "name": "ipython",
    "version": 3
   },
   "file_extension": ".py",
   "mimetype": "text/x-python",
   "name": "python",
   "nbconvert_exporter": "python",
   "pygments_lexer": "ipython3",
   "version": "3.12.7"
  }
 },
 "nbformat": 4,
 "nbformat_minor": 5
}
